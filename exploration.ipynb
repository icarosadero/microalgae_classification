{
 "cells": [
  {
   "cell_type": "code",
   "execution_count": null,
   "metadata": {},
   "outputs": [],
   "source": [
    "import pandas as pd\n",
    "from sklearn.model_selection import KFold\n",
    "from sklearn.model_selection import train_test_split\n",
    "from datetime import datetime"
   ]
  },
  {
   "cell_type": "code",
   "execution_count": null,
   "metadata": {},
   "outputs": [],
   "source": [
    "df = pd.read_csv(\"data/dataset.csv\", sep=\",\")\n",
    "df"
   ]
  },
  {
   "cell_type": "code",
   "execution_count": null,
   "metadata": {},
   "outputs": [],
   "source": [
    "n_features = len(df.columns) - 1"
   ]
  },
  {
   "cell_type": "code",
   "execution_count": null,
   "metadata": {},
   "outputs": [],
   "source": [
    "X = df[df.columns[:-1]].values\n",
    "y = df[df.columns[-1]].values"
   ]
  },
  {
   "cell_type": "code",
   "execution_count": null,
   "metadata": {},
   "outputs": [],
   "source": [
    "import optuna\n",
    "from sklearn.neighbors import KNeighborsClassifier\n",
    "from sklearn.decomposition import PCA\n",
    "from sklearn.svm import SVC\n",
    "from sklearn.metrics import matthews_corrcoef\n",
    "from sklearn.metrics import confusion_matrix\n",
    "import numpy as np"
   ]
  },
  {
   "cell_type": "code",
   "execution_count": null,
   "metadata": {},
   "outputs": [],
   "source": [
    "def exponential_dilation(r): return lambda x: (1 - np.exp(-r*x))"
   ]
  },
  {
   "cell_type": "code",
   "execution_count": null,
   "metadata": {},
   "outputs": [],
   "source": [
    "def objective(trial):\n",
    "    X_dilated = exponential_dilation(trial.suggest_float(\"dilation_coefficient\",0,1))(X)\n",
    "    kf = KFold(n_splits = 10, shuffle = True)\n",
    "    n_pca_components = trial.suggest_int(\"pca_components\", 3, 90)\n",
    "    pca = PCA(n_components=n_pca_components)\n",
    "    corr = []\n",
    "    for ix_train, ix_test in kf.split(X_dilated):\n",
    "        model = KNeighborsClassifier(n_neighbors=trial.suggest_int(\"n_neighbors\",3,10), metric=trial.suggest_categorical(\"knn_metric\",['minkowski', 'euclidean', 'cosine']))\n",
    "        X_train, y_train = X[ix_train], y[ix_train]\n",
    "        X_test, y_test = X[ix_test], y[ix_test]\n",
    "        U_train = pca.fit_transform(X_train)\n",
    "        U_test = pca.transform(X_test)\n",
    "        model.fit(U_train, y_train)\n",
    "        y_pred = model.predict(U_test)\n",
    "        corr.append(matthews_corrcoef(y_test, y_pred))\n",
    "    return np.mean(corr) - 0.01*n_pca_components"
   ]
  },
  {
   "cell_type": "code",
   "execution_count": null,
   "metadata": {},
   "outputs": [],
   "source": [
    "timestamp = datetime.now().strftime(\"%Y%m%d%H%M%S\")\n",
    "study = optuna.create_study(\n",
    "    storage=\"sqlite:///data/optuna.sqlite\",\n",
    "    direction='maximize',\n",
    "    study_name=f'KNN_with_PCA_timestamp_{timestamp}',\n",
    "    load_if_exists=False\n",
    ")\n",
    "study.optimize(objective, n_trials = 100)"
   ]
  },
  {
   "cell_type": "code",
   "execution_count": null,
   "metadata": {},
   "outputs": [],
   "source": [
    "study.best_params"
   ]
  },
  {
   "cell_type": "code",
   "execution_count": null,
   "metadata": {},
   "outputs": [],
   "source": [
    "pca = PCA(n_components=study.best_params['pca_components'])\n",
    "X_transformed = exponential_dilation(study.best_params['dilation_coefficient'])(X)\n",
    "X_train, X_test, y_train, y_test = train_test_split(X_transformed, y, test_size=0.2, stratify=y)\n",
    "U_train = pca.fit_transform(X_train)\n",
    "U_test = pca.transform(X_test)\n",
    "knn = KNeighborsClassifier(n_neighbors=study.best_params['n_neighbors'], metric=study.best_params['knn_metric'])\n",
    "knn.fit(X_train, y_train)\n",
    "y_pred = knn.predict(X_test)\n",
    "matthews_corrcoef(y_true=y_test,y_pred=y_pred)"
   ]
  },
  {
   "cell_type": "code",
   "execution_count": null,
   "metadata": {},
   "outputs": [],
   "source": [
    "confusion_matrix(y_true=y_test,y_pred=y_pred)"
   ]
  },
  {
   "cell_type": "code",
   "execution_count": null,
   "metadata": {},
   "outputs": [],
   "source": [
    "import matplotlib.pyplot as plt\n",
    "import seaborn as sns"
   ]
  },
  {
   "cell_type": "code",
   "execution_count": null,
   "metadata": {},
   "outputs": [],
   "source": [
    "udf_train = pd.DataFrame(U_train)\n",
    "udf_train['labels'] = y_train"
   ]
  },
  {
   "cell_type": "code",
   "execution_count": null,
   "metadata": {},
   "outputs": [],
   "source": [
    "plt.figure()\n",
    "sns.pairplot(udf_train, hue='labels')\n",
    "plt.show()"
   ]
  },
  {
   "cell_type": "code",
   "execution_count": null,
   "metadata": {},
   "outputs": [],
   "source": []
  }
 ],
 "metadata": {
  "kernelspec": {
   "display_name": ".venv",
   "language": "python",
   "name": "python3"
  },
  "language_info": {
   "codemirror_mode": {
    "name": "ipython",
    "version": 3
   },
   "file_extension": ".py",
   "mimetype": "text/x-python",
   "name": "python",
   "nbconvert_exporter": "python",
   "pygments_lexer": "ipython3",
   "version": "3.12.3"
  }
 },
 "nbformat": 4,
 "nbformat_minor": 2
}
